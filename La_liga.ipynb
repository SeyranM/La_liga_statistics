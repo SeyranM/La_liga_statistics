{
 "cells": [
  {
   "cell_type": "markdown",
   "metadata": {},
   "source": [
    "# Task 2. Football"
   ]
  },
  {
   "cell_type": "code",
   "execution_count": 1,
   "metadata": {},
   "outputs": [],
   "source": [
    "import numpy as np\n",
    "import pandas as pd\n",
    "import pyreadr\n",
    "import matplotlib.pyplot as plt"
   ]
  },
  {
   "cell_type": "markdown",
   "metadata": {},
   "source": [
    "### Data cleaning"
   ]
  },
  {
   "cell_type": "code",
   "execution_count": 2,
   "metadata": {},
   "outputs": [],
   "source": [
    "# Importing data with pyreadr package.\n",
    "df = pyreadr.read_r(\"f_data_sm.rda\")[\"f_data_sm\"]"
   ]
  },
  {
   "cell_type": "code",
   "execution_count": 3,
   "metadata": {},
   "outputs": [
    {
     "data": {
      "text/html": [
       "<div>\n",
       "<style scoped>\n",
       "    .dataframe tbody tr th:only-of-type {\n",
       "        vertical-align: middle;\n",
       "    }\n",
       "\n",
       "    .dataframe tbody tr th {\n",
       "        vertical-align: top;\n",
       "    }\n",
       "\n",
       "    .dataframe thead th {\n",
       "        text-align: right;\n",
       "    }\n",
       "</style>\n",
       "<table border=\"1\" class=\"dataframe\">\n",
       "  <thead>\n",
       "    <tr style=\"text-align: right;\">\n",
       "      <th></th>\n",
       "      <th>SEASON</th>\n",
       "      <th>COUNTRY</th>\n",
       "      <th>LEAGUE</th>\n",
       "      <th>DATE</th>\n",
       "      <th>HOMETEAM</th>\n",
       "      <th>AWAYTEAM</th>\n",
       "      <th>FTSC</th>\n",
       "      <th>FTR</th>\n",
       "      <th>FTHG</th>\n",
       "      <th>FTAG</th>\n",
       "      <th>FTTG</th>\n",
       "      <th>H</th>\n",
       "      <th>D</th>\n",
       "      <th>A</th>\n",
       "    </tr>\n",
       "  </thead>\n",
       "  <tbody>\n",
       "    <tr>\n",
       "      <th>0</th>\n",
       "      <td>1994.0</td>\n",
       "      <td>England</td>\n",
       "      <td>Premier League</td>\n",
       "      <td>1993-08-14</td>\n",
       "      <td>Arsenal</td>\n",
       "      <td>Coventry</td>\n",
       "      <td>0-3</td>\n",
       "      <td>A</td>\n",
       "      <td>0.0</td>\n",
       "      <td>3.0</td>\n",
       "      <td>3.0</td>\n",
       "      <td>NaN</td>\n",
       "      <td>NaN</td>\n",
       "      <td>NaN</td>\n",
       "    </tr>\n",
       "    <tr>\n",
       "      <th>1</th>\n",
       "      <td>1994.0</td>\n",
       "      <td>England</td>\n",
       "      <td>Premier League</td>\n",
       "      <td>1993-08-14</td>\n",
       "      <td>Aston Villa</td>\n",
       "      <td>QPR</td>\n",
       "      <td>4-1</td>\n",
       "      <td>H</td>\n",
       "      <td>4.0</td>\n",
       "      <td>1.0</td>\n",
       "      <td>5.0</td>\n",
       "      <td>NaN</td>\n",
       "      <td>NaN</td>\n",
       "      <td>NaN</td>\n",
       "    </tr>\n",
       "    <tr>\n",
       "      <th>2</th>\n",
       "      <td>1994.0</td>\n",
       "      <td>England</td>\n",
       "      <td>Premier League</td>\n",
       "      <td>1993-08-14</td>\n",
       "      <td>Chelsea</td>\n",
       "      <td>Blackburn</td>\n",
       "      <td>1-2</td>\n",
       "      <td>A</td>\n",
       "      <td>1.0</td>\n",
       "      <td>2.0</td>\n",
       "      <td>3.0</td>\n",
       "      <td>NaN</td>\n",
       "      <td>NaN</td>\n",
       "      <td>NaN</td>\n",
       "    </tr>\n",
       "    <tr>\n",
       "      <th>3</th>\n",
       "      <td>1994.0</td>\n",
       "      <td>England</td>\n",
       "      <td>Premier League</td>\n",
       "      <td>1993-08-14</td>\n",
       "      <td>Liverpool</td>\n",
       "      <td>Sheffield Weds</td>\n",
       "      <td>2-0</td>\n",
       "      <td>H</td>\n",
       "      <td>2.0</td>\n",
       "      <td>0.0</td>\n",
       "      <td>2.0</td>\n",
       "      <td>NaN</td>\n",
       "      <td>NaN</td>\n",
       "      <td>NaN</td>\n",
       "    </tr>\n",
       "    <tr>\n",
       "      <th>4</th>\n",
       "      <td>1994.0</td>\n",
       "      <td>England</td>\n",
       "      <td>Premier League</td>\n",
       "      <td>1993-08-14</td>\n",
       "      <td>Man City</td>\n",
       "      <td>Leeds</td>\n",
       "      <td>1-1</td>\n",
       "      <td>D</td>\n",
       "      <td>1.0</td>\n",
       "      <td>1.0</td>\n",
       "      <td>2.0</td>\n",
       "      <td>NaN</td>\n",
       "      <td>NaN</td>\n",
       "      <td>NaN</td>\n",
       "    </tr>\n",
       "  </tbody>\n",
       "</table>\n",
       "</div>"
      ],
      "text/plain": [
       "   SEASON  COUNTRY          LEAGUE       DATE     HOMETEAM        AWAYTEAM  \\\n",
       "0  1994.0  England  Premier League 1993-08-14      Arsenal        Coventry   \n",
       "1  1994.0  England  Premier League 1993-08-14  Aston Villa             QPR   \n",
       "2  1994.0  England  Premier League 1993-08-14      Chelsea       Blackburn   \n",
       "3  1994.0  England  Premier League 1993-08-14    Liverpool  Sheffield Weds   \n",
       "4  1994.0  England  Premier League 1993-08-14     Man City           Leeds   \n",
       "\n",
       "  FTSC FTR  FTHG  FTAG  FTTG   H   D   A  \n",
       "0  0-3   A   0.0   3.0   3.0 NaN NaN NaN  \n",
       "1  4-1   H   4.0   1.0   5.0 NaN NaN NaN  \n",
       "2  1-2   A   1.0   2.0   3.0 NaN NaN NaN  \n",
       "3  2-0   H   2.0   0.0   2.0 NaN NaN NaN  \n",
       "4  1-1   D   1.0   1.0   2.0 NaN NaN NaN  "
      ]
     },
     "execution_count": 3,
     "metadata": {},
     "output_type": "execute_result"
    }
   ],
   "source": [
    "df.head()"
   ]
  },
  {
   "cell_type": "code",
   "execution_count": 4,
   "metadata": {},
   "outputs": [],
   "source": [
    "# Renaming columns.\n",
    "df = df.rename(columns={'FTSC': 'SCORE',\n",
    "                   'FTR': 'WON',\n",
    "                   'FTHG': 'HOME_GOALS',\n",
    "                   'FTAG': 'AWAY_GOALS',\n",
    "                   'FTTG': 'TOTAL_GOALS'})"
   ]
  },
  {
   "cell_type": "code",
   "execution_count": 5,
   "metadata": {},
   "outputs": [
    {
     "data": {
      "text/plain": [
       "SEASON             0\n",
       "COUNTRY            0\n",
       "LEAGUE             0\n",
       "DATE               0\n",
       "HOMETEAM           0\n",
       "AWAYTEAM           0\n",
       "SCORE              0\n",
       "WON                1\n",
       "HOME_GOALS         2\n",
       "AWAY_GOALS         2\n",
       "TOTAL_GOALS        2\n",
       "H              30156\n",
       "D              30156\n",
       "A              30156\n",
       "dtype: int64"
      ]
     },
     "execution_count": 5,
     "metadata": {},
     "output_type": "execute_result"
    }
   ],
   "source": [
    "# Counting missing values.\n",
    "df.isna().sum()"
   ]
  },
  {
   "cell_type": "code",
   "execution_count": 6,
   "metadata": {},
   "outputs": [
    {
     "data": {
      "text/html": [
       "<div>\n",
       "<style scoped>\n",
       "    .dataframe tbody tr th:only-of-type {\n",
       "        vertical-align: middle;\n",
       "    }\n",
       "\n",
       "    .dataframe tbody tr th {\n",
       "        vertical-align: top;\n",
       "    }\n",
       "\n",
       "    .dataframe thead th {\n",
       "        text-align: right;\n",
       "    }\n",
       "</style>\n",
       "<table border=\"1\" class=\"dataframe\">\n",
       "  <thead>\n",
       "    <tr style=\"text-align: right;\">\n",
       "      <th></th>\n",
       "      <th>SEASON</th>\n",
       "      <th>COUNTRY</th>\n",
       "      <th>LEAGUE</th>\n",
       "      <th>DATE</th>\n",
       "      <th>HOMETEAM</th>\n",
       "      <th>AWAYTEAM</th>\n",
       "      <th>SCORE</th>\n",
       "      <th>WON</th>\n",
       "      <th>HOME_GOALS</th>\n",
       "      <th>AWAY_GOALS</th>\n",
       "      <th>TOTAL_GOALS</th>\n",
       "    </tr>\n",
       "  </thead>\n",
       "  <tbody>\n",
       "    <tr>\n",
       "      <th>74002</th>\n",
       "      <td>2015.0</td>\n",
       "      <td>Greece</td>\n",
       "      <td>Ethniki Katigoria</td>\n",
       "      <td>2015-05-10</td>\n",
       "      <td>Niki Volos</td>\n",
       "      <td>OFI</td>\n",
       "      <td>NA-NA</td>\n",
       "      <td>NaN</td>\n",
       "      <td>NaN</td>\n",
       "      <td>NaN</td>\n",
       "      <td>NaN</td>\n",
       "    </tr>\n",
       "    <tr>\n",
       "      <th>87773</th>\n",
       "      <td>2019.0</td>\n",
       "      <td>Greece</td>\n",
       "      <td>Ethniki Katigoria</td>\n",
       "      <td>2019-03-17</td>\n",
       "      <td>Panathinaikos</td>\n",
       "      <td>Olympiakos</td>\n",
       "      <td>NA-NA</td>\n",
       "      <td></td>\n",
       "      <td>NaN</td>\n",
       "      <td>NaN</td>\n",
       "      <td>NaN</td>\n",
       "    </tr>\n",
       "  </tbody>\n",
       "</table>\n",
       "</div>"
      ],
      "text/plain": [
       "       SEASON COUNTRY             LEAGUE       DATE       HOMETEAM  \\\n",
       "74002  2015.0  Greece  Ethniki Katigoria 2015-05-10     Niki Volos   \n",
       "87773  2019.0  Greece  Ethniki Katigoria 2019-03-17  Panathinaikos   \n",
       "\n",
       "         AWAYTEAM  SCORE  WON  HOME_GOALS  AWAY_GOALS  TOTAL_GOALS  \n",
       "74002         OFI  NA-NA  NaN         NaN         NaN          NaN  \n",
       "87773  Olympiakos  NA-NA              NaN         NaN          NaN  "
      ]
     },
     "execution_count": 6,
     "metadata": {},
     "output_type": "execute_result"
    }
   ],
   "source": [
    "# Dropping H, D and A columns. They show bet coefficients, which we won't need.\n",
    "df = df.drop(['H', 'D', 'A'], axis = 1)\n",
    "# Printing rows where the values for column HOME_GOALS are missing. \n",
    "df[df['HOME_GOALS'].isna()]"
   ]
  },
  {
   "cell_type": "code",
   "execution_count": 7,
   "metadata": {},
   "outputs": [],
   "source": [
    "# Dropping those 2 rows.\n",
    "df = df.dropna()"
   ]
  },
  {
   "cell_type": "code",
   "execution_count": 8,
   "metadata": {},
   "outputs": [
    {
     "name": "stdout",
     "output_type": "stream",
     "text": [
      "<class 'pandas.core.frame.DataFrame'>\n",
      "Int64Index: 87814 entries, 0 to 87815\n",
      "Data columns (total 11 columns):\n",
      " #   Column       Non-Null Count  Dtype         \n",
      "---  ------       --------------  -----         \n",
      " 0   SEASON       87814 non-null  float64       \n",
      " 1   COUNTRY      87814 non-null  object        \n",
      " 2   LEAGUE       87814 non-null  object        \n",
      " 3   DATE         87814 non-null  datetime64[ns]\n",
      " 4   HOMETEAM     87814 non-null  object        \n",
      " 5   AWAYTEAM     87814 non-null  object        \n",
      " 6   SCORE        87814 non-null  object        \n",
      " 7   WON          87814 non-null  object        \n",
      " 8   HOME_GOALS   87814 non-null  float64       \n",
      " 9   AWAY_GOALS   87814 non-null  float64       \n",
      " 10  TOTAL_GOALS  87814 non-null  float64       \n",
      "dtypes: datetime64[ns](1), float64(4), object(6)\n",
      "memory usage: 8.0+ MB\n"
     ]
    }
   ],
   "source": [
    "# Checking column types.\n",
    "df.info()"
   ]
  },
  {
   "cell_type": "code",
   "execution_count": 9,
   "metadata": {},
   "outputs": [],
   "source": [
    "# Changing types for columns SEASON, HOME_GOALS, AWAY_GOALS and TOTAL_GOALS to integer.\n",
    "df = df.astype({'SEASON': 'int',\n",
    "          'HOME_GOALS': 'int',\n",
    "          'AWAY_GOALS': 'int',\n",
    "          'TOTAL_GOALS': 'int'})"
   ]
  },
  {
   "cell_type": "code",
   "execution_count": 10,
   "metadata": {},
   "outputs": [
    {
     "data": {
      "text/plain": [
       "array(['England', 'Germany', 'Spain', 'Italy', 'France', 'Netherlands',\n",
       "       'Scotland', 'Portugal', 'Turkey', 'Greece', 'Belgium'],\n",
       "      dtype=object)"
      ]
     },
     "execution_count": 10,
     "metadata": {},
     "output_type": "execute_result"
    }
   ],
   "source": [
    "# Let's see leagues of which countries are included in this dataset.\n",
    "df[\"COUNTRY\"].unique()"
   ]
  },
  {
   "cell_type": "code",
   "execution_count": 11,
   "metadata": {},
   "outputs": [],
   "source": [
    "# I love La liga, so let's work on it.\n",
    "la_liga = df[df[\"COUNTRY\"] == \"Spain\"]"
   ]
  },
  {
   "cell_type": "code",
   "execution_count": 12,
   "metadata": {},
   "outputs": [
    {
     "data": {
      "text/html": [
       "<div>\n",
       "<style scoped>\n",
       "    .dataframe tbody tr th:only-of-type {\n",
       "        vertical-align: middle;\n",
       "    }\n",
       "\n",
       "    .dataframe tbody tr th {\n",
       "        vertical-align: top;\n",
       "    }\n",
       "\n",
       "    .dataframe thead th {\n",
       "        text-align: right;\n",
       "    }\n",
       "</style>\n",
       "<table border=\"1\" class=\"dataframe\">\n",
       "  <thead>\n",
       "    <tr style=\"text-align: right;\">\n",
       "      <th></th>\n",
       "      <th>SEASON</th>\n",
       "      <th>COUNTRY</th>\n",
       "      <th>LEAGUE</th>\n",
       "      <th>DATE</th>\n",
       "      <th>HOMETEAM</th>\n",
       "      <th>AWAYTEAM</th>\n",
       "      <th>SCORE</th>\n",
       "      <th>WON</th>\n",
       "      <th>HOME_GOALS</th>\n",
       "      <th>AWAY_GOALS</th>\n",
       "      <th>TOTAL_GOALS</th>\n",
       "    </tr>\n",
       "  </thead>\n",
       "  <tbody>\n",
       "    <tr>\n",
       "      <th>768</th>\n",
       "      <td>1994</td>\n",
       "      <td>Spain</td>\n",
       "      <td>La Liga Primera Division</td>\n",
       "      <td>1993-09-05</td>\n",
       "      <td>Ath Bilbao</td>\n",
       "      <td>Albacete</td>\n",
       "      <td>4-1</td>\n",
       "      <td>H</td>\n",
       "      <td>4</td>\n",
       "      <td>1</td>\n",
       "      <td>5</td>\n",
       "    </tr>\n",
       "    <tr>\n",
       "      <th>769</th>\n",
       "      <td>1994</td>\n",
       "      <td>Spain</td>\n",
       "      <td>La Liga Primera Division</td>\n",
       "      <td>1993-09-05</td>\n",
       "      <td>Ath Madrid</td>\n",
       "      <td>Logrones</td>\n",
       "      <td>1-0</td>\n",
       "      <td>H</td>\n",
       "      <td>1</td>\n",
       "      <td>0</td>\n",
       "      <td>1</td>\n",
       "    </tr>\n",
       "    <tr>\n",
       "      <th>770</th>\n",
       "      <td>1994</td>\n",
       "      <td>Spain</td>\n",
       "      <td>La Liga Primera Division</td>\n",
       "      <td>1993-09-05</td>\n",
       "      <td>Barcelona</td>\n",
       "      <td>Sociedad</td>\n",
       "      <td>3-0</td>\n",
       "      <td>H</td>\n",
       "      <td>3</td>\n",
       "      <td>0</td>\n",
       "      <td>3</td>\n",
       "    </tr>\n",
       "    <tr>\n",
       "      <th>771</th>\n",
       "      <td>1994</td>\n",
       "      <td>Spain</td>\n",
       "      <td>La Liga Primera Division</td>\n",
       "      <td>1993-09-05</td>\n",
       "      <td>La Coruna</td>\n",
       "      <td>Celta</td>\n",
       "      <td>0-0</td>\n",
       "      <td>D</td>\n",
       "      <td>0</td>\n",
       "      <td>0</td>\n",
       "      <td>0</td>\n",
       "    </tr>\n",
       "    <tr>\n",
       "      <th>772</th>\n",
       "      <td>1994</td>\n",
       "      <td>Spain</td>\n",
       "      <td>La Liga Primera Division</td>\n",
       "      <td>1993-09-05</td>\n",
       "      <td>Osasuna</td>\n",
       "      <td>Real Madrid</td>\n",
       "      <td>1-4</td>\n",
       "      <td>A</td>\n",
       "      <td>1</td>\n",
       "      <td>4</td>\n",
       "      <td>5</td>\n",
       "    </tr>\n",
       "  </tbody>\n",
       "</table>\n",
       "</div>"
      ],
      "text/plain": [
       "     SEASON COUNTRY                    LEAGUE       DATE    HOMETEAM  \\\n",
       "768    1994   Spain  La Liga Primera Division 1993-09-05  Ath Bilbao   \n",
       "769    1994   Spain  La Liga Primera Division 1993-09-05  Ath Madrid   \n",
       "770    1994   Spain  La Liga Primera Division 1993-09-05   Barcelona   \n",
       "771    1994   Spain  La Liga Primera Division 1993-09-05   La Coruna   \n",
       "772    1994   Spain  La Liga Primera Division 1993-09-05     Osasuna   \n",
       "\n",
       "        AWAYTEAM SCORE WON  HOME_GOALS  AWAY_GOALS  TOTAL_GOALS  \n",
       "768     Albacete   4-1   H           4           1            5  \n",
       "769     Logrones   1-0   H           1           0            1  \n",
       "770     Sociedad   3-0   H           3           0            3  \n",
       "771        Celta   0-0   D           0           0            0  \n",
       "772  Real Madrid   1-4   A           1           4            5  "
      ]
     },
     "execution_count": 12,
     "metadata": {},
     "output_type": "execute_result"
    }
   ],
   "source": [
    "la_liga.head()"
   ]
  },
  {
   "cell_type": "markdown",
   "metadata": {},
   "source": [
    "### 1. Calculating average number of goals for home and away teams"
   ]
  },
  {
   "cell_type": "code",
   "execution_count": 13,
   "metadata": {},
   "outputs": [],
   "source": [
    "# Grouping data with HOMETEAM and SEASON, counting mean goals for each of them.\n",
    "home_mean_goals = la_liga.groupby(['HOMETEAM', 'SEASON'], as_index= False).agg({'HOME_GOALS': 'mean'})\n",
    "# Renaming columns names.\n",
    "home_mean_goals = home_mean_goals.rename(columns = {'HOME_GOALS': 'HOME_MEAN', 'HOMETEAM': 'TEAM'})"
   ]
  },
  {
   "cell_type": "code",
   "execution_count": 14,
   "metadata": {},
   "outputs": [
    {
     "data": {
      "text/html": [
       "<div>\n",
       "<style scoped>\n",
       "    .dataframe tbody tr th:only-of-type {\n",
       "        vertical-align: middle;\n",
       "    }\n",
       "\n",
       "    .dataframe tbody tr th {\n",
       "        vertical-align: top;\n",
       "    }\n",
       "\n",
       "    .dataframe thead th {\n",
       "        text-align: right;\n",
       "    }\n",
       "</style>\n",
       "<table border=\"1\" class=\"dataframe\">\n",
       "  <thead>\n",
       "    <tr style=\"text-align: right;\">\n",
       "      <th></th>\n",
       "      <th>TEAM</th>\n",
       "      <th>SEASON</th>\n",
       "      <th>HOME_MEAN</th>\n",
       "    </tr>\n",
       "  </thead>\n",
       "  <tbody>\n",
       "    <tr>\n",
       "      <th>88</th>\n",
       "      <td>Barcelona</td>\n",
       "      <td>2012</td>\n",
       "      <td>3.842105</td>\n",
       "    </tr>\n",
       "    <tr>\n",
       "      <th>336</th>\n",
       "      <td>Real Madrid</td>\n",
       "      <td>2016</td>\n",
       "      <td>3.684211</td>\n",
       "    </tr>\n",
       "    <tr>\n",
       "      <th>332</th>\n",
       "      <td>Real Madrid</td>\n",
       "      <td>2012</td>\n",
       "      <td>3.684211</td>\n",
       "    </tr>\n",
       "    <tr>\n",
       "      <th>92</th>\n",
       "      <td>Barcelona</td>\n",
       "      <td>2016</td>\n",
       "      <td>3.526316</td>\n",
       "    </tr>\n",
       "    <tr>\n",
       "      <th>333</th>\n",
       "      <td>Real Madrid</td>\n",
       "      <td>2013</td>\n",
       "      <td>3.526316</td>\n",
       "    </tr>\n",
       "    <tr>\n",
       "      <th>335</th>\n",
       "      <td>Real Madrid</td>\n",
       "      <td>2015</td>\n",
       "      <td>3.421053</td>\n",
       "    </tr>\n",
       "    <tr>\n",
       "      <th>90</th>\n",
       "      <td>Barcelona</td>\n",
       "      <td>2014</td>\n",
       "      <td>3.368421</td>\n",
       "    </tr>\n",
       "    <tr>\n",
       "      <th>91</th>\n",
       "      <td>Barcelona</td>\n",
       "      <td>2015</td>\n",
       "      <td>3.368421</td>\n",
       "    </tr>\n",
       "    <tr>\n",
       "      <th>93</th>\n",
       "      <td>Barcelona</td>\n",
       "      <td>2017</td>\n",
       "      <td>3.368421</td>\n",
       "    </tr>\n",
       "    <tr>\n",
       "      <th>89</th>\n",
       "      <td>Barcelona</td>\n",
       "      <td>2013</td>\n",
       "      <td>3.315789</td>\n",
       "    </tr>\n",
       "  </tbody>\n",
       "</table>\n",
       "</div>"
      ],
      "text/plain": [
       "            TEAM  SEASON  HOME_MEAN\n",
       "88     Barcelona    2012   3.842105\n",
       "336  Real Madrid    2016   3.684211\n",
       "332  Real Madrid    2012   3.684211\n",
       "92     Barcelona    2016   3.526316\n",
       "333  Real Madrid    2013   3.526316\n",
       "335  Real Madrid    2015   3.421053\n",
       "90     Barcelona    2014   3.368421\n",
       "91     Barcelona    2015   3.368421\n",
       "93     Barcelona    2017   3.368421\n",
       "89     Barcelona    2013   3.315789"
      ]
     },
     "execution_count": 14,
     "metadata": {},
     "output_type": "execute_result"
    }
   ],
   "source": [
    "# Here are top 10 season-teams with scored goals at home.\n",
    "home_mean_goals.sort_values('HOME_MEAN', ascending=False).head(10)"
   ]
  },
  {
   "cell_type": "code",
   "execution_count": 15,
   "metadata": {},
   "outputs": [],
   "source": [
    "# Doing the same for away teams\n",
    "away_mean_goals = la_liga.groupby(['AWAYTEAM', 'SEASON'], as_index= False).agg({'AWAY_GOALS': 'mean'})\n",
    "away_mean_goals = away_mean_goals.rename(columns = {'AWAY_GOALS': 'AWAY_MEAN', 'AWAYTEAM': 'TEAM'})"
   ]
  },
  {
   "cell_type": "code",
   "execution_count": 16,
   "metadata": {},
   "outputs": [
    {
     "data": {
      "text/html": [
       "<div>\n",
       "<style scoped>\n",
       "    .dataframe tbody tr th:only-of-type {\n",
       "        vertical-align: middle;\n",
       "    }\n",
       "\n",
       "    .dataframe tbody tr th {\n",
       "        vertical-align: top;\n",
       "    }\n",
       "\n",
       "    .dataframe thead th {\n",
       "        text-align: right;\n",
       "    }\n",
       "</style>\n",
       "<table border=\"1\" class=\"dataframe\">\n",
       "  <thead>\n",
       "    <tr style=\"text-align: right;\">\n",
       "      <th></th>\n",
       "      <th>TEAM</th>\n",
       "      <th>SEASON</th>\n",
       "      <th>AWAY_MEAN</th>\n",
       "    </tr>\n",
       "  </thead>\n",
       "  <tbody>\n",
       "    <tr>\n",
       "      <th>337</th>\n",
       "      <td>Real Madrid</td>\n",
       "      <td>2017</td>\n",
       "      <td>3.052632</td>\n",
       "    </tr>\n",
       "    <tr>\n",
       "      <th>335</th>\n",
       "      <td>Real Madrid</td>\n",
       "      <td>2015</td>\n",
       "      <td>2.789474</td>\n",
       "    </tr>\n",
       "    <tr>\n",
       "      <th>89</th>\n",
       "      <td>Barcelona</td>\n",
       "      <td>2013</td>\n",
       "      <td>2.736842</td>\n",
       "    </tr>\n",
       "    <tr>\n",
       "      <th>93</th>\n",
       "      <td>Barcelona</td>\n",
       "      <td>2017</td>\n",
       "      <td>2.736842</td>\n",
       "    </tr>\n",
       "    <tr>\n",
       "      <th>332</th>\n",
       "      <td>Real Madrid</td>\n",
       "      <td>2012</td>\n",
       "      <td>2.684211</td>\n",
       "    </tr>\n",
       "    <tr>\n",
       "      <th>87</th>\n",
       "      <td>Barcelona</td>\n",
       "      <td>2011</td>\n",
       "      <td>2.578947</td>\n",
       "    </tr>\n",
       "    <tr>\n",
       "      <th>94</th>\n",
       "      <td>Barcelona</td>\n",
       "      <td>2018</td>\n",
       "      <td>2.421053</td>\n",
       "    </tr>\n",
       "    <tr>\n",
       "      <th>91</th>\n",
       "      <td>Barcelona</td>\n",
       "      <td>2015</td>\n",
       "      <td>2.421053</td>\n",
       "    </tr>\n",
       "    <tr>\n",
       "      <th>92</th>\n",
       "      <td>Barcelona</td>\n",
       "      <td>2016</td>\n",
       "      <td>2.368421</td>\n",
       "    </tr>\n",
       "    <tr>\n",
       "      <th>85</th>\n",
       "      <td>Barcelona</td>\n",
       "      <td>2009</td>\n",
       "      <td>2.315789</td>\n",
       "    </tr>\n",
       "  </tbody>\n",
       "</table>\n",
       "</div>"
      ],
      "text/plain": [
       "            TEAM  SEASON  AWAY_MEAN\n",
       "337  Real Madrid    2017   3.052632\n",
       "335  Real Madrid    2015   2.789474\n",
       "89     Barcelona    2013   2.736842\n",
       "93     Barcelona    2017   2.736842\n",
       "332  Real Madrid    2012   2.684211\n",
       "87     Barcelona    2011   2.578947\n",
       "94     Barcelona    2018   2.421053\n",
       "91     Barcelona    2015   2.421053\n",
       "92     Barcelona    2016   2.368421\n",
       "85     Barcelona    2009   2.315789"
      ]
     },
     "execution_count": 16,
     "metadata": {},
     "output_type": "execute_result"
    }
   ],
   "source": [
    "# Top 10 season-teams with scored goals playing away.\n",
    "away_mean_goals.sort_values('AWAY_MEAN', ascending=False).head(10)"
   ]
  },
  {
   "cell_type": "markdown",
   "metadata": {},
   "source": [
    "##### As we can see Barça and Real Madrid are always on top in Spain"
   ]
  },
  {
   "cell_type": "markdown",
   "metadata": {},
   "source": [
    "### 2. Plot"
   ]
  },
  {
   "cell_type": "code",
   "execution_count": 17,
   "metadata": {},
   "outputs": [],
   "source": [
    "# Setting indexes to Team and Season columns.\n",
    "concat_1 = home_mean_goals.set_index(['TEAM', 'SEASON'])\n",
    "concat_2 = away_mean_goals.set_index(['TEAM', 'SEASON'])\n",
    "# Joining data and reseting the index.\n",
    "plot_data = pd.concat([concat_1, concat_2], axis = 1).reset_index()\n",
    "# Taking Barcelona and Real Madrid statistics to make the plot.\n",
    "Barca = plot_data[plot_data['TEAM'] == 'Barcelona']\n",
    "Real_Madrid = plot_data[plot_data['TEAM'] == 'Real Madrid']"
   ]
  },
  {
   "cell_type": "code",
   "execution_count": 18,
   "metadata": {},
   "outputs": [
    {
     "data": {
      "text/html": [
       "<div>\n",
       "<style scoped>\n",
       "    .dataframe tbody tr th:only-of-type {\n",
       "        vertical-align: middle;\n",
       "    }\n",
       "\n",
       "    .dataframe tbody tr th {\n",
       "        vertical-align: top;\n",
       "    }\n",
       "\n",
       "    .dataframe thead th {\n",
       "        text-align: right;\n",
       "    }\n",
       "</style>\n",
       "<table border=\"1\" class=\"dataframe\">\n",
       "  <thead>\n",
       "    <tr style=\"text-align: right;\">\n",
       "      <th></th>\n",
       "      <th>TEAM</th>\n",
       "      <th>SEASON</th>\n",
       "      <th>HOME_MEAN</th>\n",
       "      <th>AWAY_MEAN</th>\n",
       "    </tr>\n",
       "  </thead>\n",
       "  <tbody>\n",
       "    <tr>\n",
       "      <th>70</th>\n",
       "      <td>Barcelona</td>\n",
       "      <td>1994</td>\n",
       "      <td>2.947368</td>\n",
       "      <td>1.842105</td>\n",
       "    </tr>\n",
       "    <tr>\n",
       "      <th>71</th>\n",
       "      <td>Barcelona</td>\n",
       "      <td>1995</td>\n",
       "      <td>1.789474</td>\n",
       "      <td>1.368421</td>\n",
       "    </tr>\n",
       "    <tr>\n",
       "      <th>72</th>\n",
       "      <td>Barcelona</td>\n",
       "      <td>1996</td>\n",
       "      <td>2.000000</td>\n",
       "      <td>1.428571</td>\n",
       "    </tr>\n",
       "    <tr>\n",
       "      <th>73</th>\n",
       "      <td>Barcelona</td>\n",
       "      <td>1997</td>\n",
       "      <td>3.000000</td>\n",
       "      <td>1.857143</td>\n",
       "    </tr>\n",
       "    <tr>\n",
       "      <th>74</th>\n",
       "      <td>Barcelona</td>\n",
       "      <td>1998</td>\n",
       "      <td>2.210526</td>\n",
       "      <td>1.894737</td>\n",
       "    </tr>\n",
       "  </tbody>\n",
       "</table>\n",
       "</div>"
      ],
      "text/plain": [
       "         TEAM  SEASON  HOME_MEAN  AWAY_MEAN\n",
       "70  Barcelona    1994   2.947368   1.842105\n",
       "71  Barcelona    1995   1.789474   1.368421\n",
       "72  Barcelona    1996   2.000000   1.428571\n",
       "73  Barcelona    1997   3.000000   1.857143\n",
       "74  Barcelona    1998   2.210526   1.894737"
      ]
     },
     "execution_count": 18,
     "metadata": {},
     "output_type": "execute_result"
    }
   ],
   "source": [
    "Barca.head()"
   ]
  },
  {
   "cell_type": "code",
   "execution_count": 19,
   "metadata": {},
   "outputs": [
    {
     "data": {
      "image/png": "[encoded data removed]",
      "text/plain": [
       "<Figure size 1440x504 with 2 Axes>"
      ]
     },
     "metadata": {
      "needs_background": "light"
     },
     "output_type": "display_data"
    }
   ],
   "source": [
    "# Plot.\n",
    "fig, ax = plt.subplots(1,2, sharey = True, figsize = (20,7))\n",
    "ax[0].set_title('Barcelona', fontsize = 30)\n",
    "ax[0].set_xlabel('Season', fontsize = 20)\n",
    "ax[0].set_ylabel('Mean goals', fontsize = 20)\n",
    "ax[0].plot(Barca['SEASON'], Barca['HOME_MEAN'], marker = 'o', linestyle = '--', color = 'b', label = 'Home')\n",
    "ax[0].plot(Barca['SEASON'], Barca['AWAY_MEAN'], marker = 'o', linestyle = '--', color = 'r', label = 'Away')\n",
    "ax[0].legend()\n",
    "ax[1].set_title('Real Madrid', fontsize = 30)\n",
    "ax[1].set_xlabel('Season', fontsize = 20)\n",
    "ax[1].plot(Real_Madrid['SEASON'], Real_Madrid['HOME_MEAN'], marker = 'o', linestyle = '--', color = 'y', label = 'Home')\n",
    "ax[1].plot(Real_Madrid['SEASON'], Real_Madrid['AWAY_MEAN'], marker = 'o', linestyle = '--', color = 'black', label = 'Away')\n",
    "ax[1].legend();"
   ]
  },
  {
   "cell_type": "markdown",
   "metadata": {},
   "source": [
    "### 3. Top 5 teams with best attack/defense"
   ]
  },
  {
   "cell_type": "markdown",
   "metadata": {},
   "source": [
    "#### Our metric for the best attacking team will be most goals scored, and for the best defensing team it will be least goals conceded"
   ]
  },
  {
   "cell_type": "markdown",
   "metadata": {},
   "source": [
    "- Attack"
   ]
  },
  {
   "cell_type": "code",
   "execution_count": 20,
   "metadata": {},
   "outputs": [],
   "source": [
    "# Goals for each team per season scored while playing as home team.\n",
    "home_sum_goals = la_liga.groupby(['HOMETEAM', 'SEASON'], as_index= False).agg({'HOME_GOALS': 'sum'})\n",
    "home_sum_goals = home_sum_goals.rename(columns = {'HOME_GOALS': 'HOME_SUM', 'HOMETEAM': 'TEAM'})\n",
    "# Goals for each team per season scored while playing as away team.\n",
    "away_sum_goals = la_liga.groupby(['AWAYTEAM', 'SEASON'], as_index= False).agg({'AWAY_GOALS': 'sum'})\n",
    "away_sum_goals = away_sum_goals.rename(columns = {'AWAY_GOALS': 'AWAY_SUM', 'AWAYTEAM': 'TEAM'})"
   ]
  },
  {
   "cell_type": "code",
   "execution_count": 21,
   "metadata": {},
   "outputs": [
    {
     "data": {
      "text/html": [
       "<div>\n",
       "<style scoped>\n",
       "    .dataframe tbody tr th:only-of-type {\n",
       "        vertical-align: middle;\n",
       "    }\n",
       "\n",
       "    .dataframe tbody tr th {\n",
       "        vertical-align: top;\n",
       "    }\n",
       "\n",
       "    .dataframe thead th {\n",
       "        text-align: right;\n",
       "    }\n",
       "</style>\n",
       "<table border=\"1\" class=\"dataframe\">\n",
       "  <thead>\n",
       "    <tr style=\"text-align: right;\">\n",
       "      <th></th>\n",
       "      <th>TEAM</th>\n",
       "      <th>SEASON</th>\n",
       "      <th>HOME_SUM</th>\n",
       "    </tr>\n",
       "  </thead>\n",
       "  <tbody>\n",
       "    <tr>\n",
       "      <th>0</th>\n",
       "      <td>Alaves</td>\n",
       "      <td>1999</td>\n",
       "      <td>25</td>\n",
       "    </tr>\n",
       "    <tr>\n",
       "      <th>1</th>\n",
       "      <td>Alaves</td>\n",
       "      <td>2000</td>\n",
       "      <td>23</td>\n",
       "    </tr>\n",
       "    <tr>\n",
       "      <th>2</th>\n",
       "      <td>Alaves</td>\n",
       "      <td>2001</td>\n",
       "      <td>34</td>\n",
       "    </tr>\n",
       "    <tr>\n",
       "      <th>3</th>\n",
       "      <td>Alaves</td>\n",
       "      <td>2002</td>\n",
       "      <td>22</td>\n",
       "    </tr>\n",
       "    <tr>\n",
       "      <th>4</th>\n",
       "      <td>Alaves</td>\n",
       "      <td>2003</td>\n",
       "      <td>18</td>\n",
       "    </tr>\n",
       "  </tbody>\n",
       "</table>\n",
       "</div>"
      ],
      "text/plain": [
       "     TEAM  SEASON  HOME_SUM\n",
       "0  Alaves    1999        25\n",
       "1  Alaves    2000        23\n",
       "2  Alaves    2001        34\n",
       "3  Alaves    2002        22\n",
       "4  Alaves    2003        18"
      ]
     },
     "execution_count": 21,
     "metadata": {},
     "output_type": "execute_result"
    }
   ],
   "source": [
    "home_sum_goals.head()"
   ]
  },
  {
   "cell_type": "code",
   "execution_count": 22,
   "metadata": {},
   "outputs": [],
   "source": [
    "# Setting indexes to Team and Season columns.\n",
    "concat_1 = home_sum_goals.set_index(['TEAM', 'SEASON'])\n",
    "concat_2 = away_sum_goals.set_index(['TEAM', 'SEASON'])\n",
    "# Joining data and reseting the index.\n",
    "total_goals_sum = pd.concat([concat_1, concat_2], axis = 1).reset_index()\n",
    "# Creating new column with total goals scored.\n",
    "total_goals_sum['TOTAL_GOALS'] = total_goals_sum['HOME_SUM'] + total_goals_sum['AWAY_SUM']\n",
    "# Dropping the columns that we won't need.\n",
    "total_goals_sum = total_goals_sum.drop(columns=['HOME_SUM', 'AWAY_SUM'])"
   ]
  },
  {
   "cell_type": "code",
   "execution_count": 23,
   "metadata": {},
   "outputs": [],
   "source": [
    "# Grouping data by season and finding top 5 teams with more scored goals.\n",
    "best_attacking_df = total_goals_sum.groupby('SEASON', as_index = False).apply(lambda x : x.nlargest(5, 'TOTAL_GOALS'))\n",
    "# Reseting index and dropping the columns we won't need.\n",
    "best_attacking_df = best_attacking_df.reset_index().drop(columns=['level_0', 'level_1'])"
   ]
  },
  {
   "cell_type": "code",
   "execution_count": 24,
   "metadata": {},
   "outputs": [],
   "source": [
    "# A function that will return top 5 attacking teams for the given season.\n",
    "def top_5_attack(season):\n",
    "    return best_attacking_df[best_attacking_df['SEASON'] == season].drop(columns='SEASON').style.hide_index()"
   ]
  },
  {
   "cell_type": "code",
   "execution_count": 25,
   "metadata": {},
   "outputs": [
    {
     "data": {
      "text/html": [
       "<style  type=\"text/css\" >\n",
       "</style><table id=\"T_27ad01ff_8cf2_11eb_8c89_902b34a79fac\" ><thead>    <tr>        <th class=\"col_heading level0 col0\" >TEAM</th>        <th class=\"col_heading level0 col1\" >TOTAL_GOALS</th>    </tr></thead><tbody>\n",
       "                <tr>\n",
       "                                <td id=\"T_27ad01ff_8cf2_11eb_8c89_902b34a79facrow0_col0\" class=\"data row0 col0\" >Barcelona</td>\n",
       "                        <td id=\"T_27ad01ff_8cf2_11eb_8c89_902b34a79facrow0_col1\" class=\"data row0 col1\" >115</td>\n",
       "            </tr>\n",
       "            <tr>\n",
       "                                <td id=\"T_27ad01ff_8cf2_11eb_8c89_902b34a79facrow1_col0\" class=\"data row1 col0\" >Real Madrid</td>\n",
       "                        <td id=\"T_27ad01ff_8cf2_11eb_8c89_902b34a79facrow1_col1\" class=\"data row1 col1\" >103</td>\n",
       "            </tr>\n",
       "            <tr>\n",
       "                                <td id=\"T_27ad01ff_8cf2_11eb_8c89_902b34a79facrow2_col0\" class=\"data row2 col0\" >Sociedad</td>\n",
       "                        <td id=\"T_27ad01ff_8cf2_11eb_8c89_902b34a79facrow2_col1\" class=\"data row2 col1\" >70</td>\n",
       "            </tr>\n",
       "            <tr>\n",
       "                                <td id=\"T_27ad01ff_8cf2_11eb_8c89_902b34a79facrow3_col0\" class=\"data row3 col0\" >Valencia</td>\n",
       "                        <td id=\"T_27ad01ff_8cf2_11eb_8c89_902b34a79facrow3_col1\" class=\"data row3 col1\" >67</td>\n",
       "            </tr>\n",
       "            <tr>\n",
       "                                <td id=\"T_27ad01ff_8cf2_11eb_8c89_902b34a79facrow4_col0\" class=\"data row4 col0\" >Ath Madrid</td>\n",
       "                        <td id=\"T_27ad01ff_8cf2_11eb_8c89_902b34a79facrow4_col1\" class=\"data row4 col1\" >65</td>\n",
       "            </tr>\n",
       "    </tbody></table>"
      ],
      "text/plain": [
       "<pandas.io.formats.style.Styler at 0x1bebfb92790>"
      ]
     },
     "execution_count": 25,
     "metadata": {},
     "output_type": "execute_result"
    }
   ],
   "source": [
    "top_5_attack(2013)"
   ]
  },
  {
   "cell_type": "markdown",
   "metadata": {},
   "source": [
    "- Defense"
   ]
  },
  {
   "cell_type": "code",
   "execution_count": 26,
   "metadata": {},
   "outputs": [],
   "source": [
    "# Goals for each team per season conceded while playing as home team.\n",
    "home_sum_goals_con = la_liga.groupby(['HOMETEAM', 'SEASON'], as_index= False).agg({'AWAY_GOALS': 'sum'})\n",
    "home_sum_goals_con = home_sum_goals_con.rename(columns = {'AWAY_GOALS': 'HOME_SUM', 'HOMETEAM': 'TEAM'})\n",
    "# Goals for each team per season conceded while playing as away team.\n",
    "away_sum_goals_con = la_liga.groupby(['AWAYTEAM', 'SEASON'], as_index= False).agg({'HOME_GOALS': 'sum'})\n",
    "away_sum_goals_con = away_sum_goals_con.rename(columns = {'HOME_GOALS': 'AWAY_SUM', 'AWAYTEAM': 'TEAM'})"
   ]
  },
  {
   "cell_type": "code",
   "execution_count": 27,
   "metadata": {},
   "outputs": [
    {
     "data": {
      "text/html": [
       "<div>\n",
       "<style scoped>\n",
       "    .dataframe tbody tr th:only-of-type {\n",
       "        vertical-align: middle;\n",
       "    }\n",
       "\n",
       "    .dataframe tbody tr th {\n",
       "        vertical-align: top;\n",
       "    }\n",
       "\n",
       "    .dataframe thead th {\n",
       "        text-align: right;\n",
       "    }\n",
       "</style>\n",
       "<table border=\"1\" class=\"dataframe\">\n",
       "  <thead>\n",
       "    <tr style=\"text-align: right;\">\n",
       "      <th></th>\n",
       "      <th>TEAM</th>\n",
       "      <th>SEASON</th>\n",
       "      <th>HOME_SUM</th>\n",
       "    </tr>\n",
       "  </thead>\n",
       "  <tbody>\n",
       "    <tr>\n",
       "      <th>0</th>\n",
       "      <td>Alaves</td>\n",
       "      <td>1999</td>\n",
       "      <td>17</td>\n",
       "    </tr>\n",
       "    <tr>\n",
       "      <th>1</th>\n",
       "      <td>Alaves</td>\n",
       "      <td>2000</td>\n",
       "      <td>18</td>\n",
       "    </tr>\n",
       "    <tr>\n",
       "      <th>2</th>\n",
       "      <td>Alaves</td>\n",
       "      <td>2001</td>\n",
       "      <td>24</td>\n",
       "    </tr>\n",
       "    <tr>\n",
       "      <th>3</th>\n",
       "      <td>Alaves</td>\n",
       "      <td>2002</td>\n",
       "      <td>21</td>\n",
       "    </tr>\n",
       "    <tr>\n",
       "      <th>4</th>\n",
       "      <td>Alaves</td>\n",
       "      <td>2003</td>\n",
       "      <td>20</td>\n",
       "    </tr>\n",
       "  </tbody>\n",
       "</table>\n",
       "</div>"
      ],
      "text/plain": [
       "     TEAM  SEASON  HOME_SUM\n",
       "0  Alaves    1999        17\n",
       "1  Alaves    2000        18\n",
       "2  Alaves    2001        24\n",
       "3  Alaves    2002        21\n",
       "4  Alaves    2003        20"
      ]
     },
     "execution_count": 27,
     "metadata": {},
     "output_type": "execute_result"
    }
   ],
   "source": [
    "home_sum_goals_con.head()"
   ]
  },
  {
   "cell_type": "code",
   "execution_count": 28,
   "metadata": {},
   "outputs": [],
   "source": [
    "# Setting indexes to Team and Season columns.\n",
    "concat_1 = home_sum_goals_con.set_index(['TEAM', 'SEASON'])\n",
    "concat_2 = away_sum_goals_con.set_index(['TEAM', 'SEASON'])\n",
    "# Joining data and reseting the index.\n",
    "total_goals_con_sum = pd.concat([concat_1, concat_2], axis = 1).reset_index()\n",
    "# Creating new column with total goals conceded.\n",
    "total_goals_con_sum['TOTAL_GOALS_CONCEDED'] = total_goals_con_sum['HOME_SUM'] + total_goals_con_sum['AWAY_SUM']\n",
    "# Dropping the columns that we won't need.\n",
    "total_goals_con_sum = total_goals_con_sum.drop(columns=['HOME_SUM', 'AWAY_SUM'])"
   ]
  },
  {
   "cell_type": "code",
   "execution_count": 29,
   "metadata": {},
   "outputs": [],
   "source": [
    "# Grouping data by season and finding top 5 teams with least goals conceded.\n",
    "best_defensing_df = total_goals_con_sum.groupby('SEASON', as_index = False).apply(lambda x : x.nsmallest(5, 'TOTAL_GOALS_CONCEDED'))\n",
    "# Reseting index and dropping the columns we won't need.\n",
    "best_defensing_df = best_defensing_df.reset_index().drop(columns=['level_0', 'level_1'])"
   ]
  },
  {
   "cell_type": "code",
   "execution_count": 30,
   "metadata": {},
   "outputs": [],
   "source": [
    "# A function that will return top 5 defengins teams for the given season.\n",
    "def top_5_defense(season):\n",
    "    return best_defensing_df[best_defensing_df['SEASON'] == season].drop(columns='SEASON').style.hide_index()"
   ]
  },
  {
   "cell_type": "code",
   "execution_count": 31,
   "metadata": {
    "scrolled": true
   },
   "outputs": [
    {
     "data": {
      "text/html": [
       "<style  type=\"text/css\" >\n",
       "</style><table id=\"T_27be6bfc_8cf2_11eb_90ab_902b34a79fac\" ><thead>    <tr>        <th class=\"col_heading level0 col0\" >TEAM</th>        <th class=\"col_heading level0 col1\" >TOTAL_GOALS_CONCEDED</th>    </tr></thead><tbody>\n",
       "                <tr>\n",
       "                                <td id=\"T_27be6bfc_8cf2_11eb_90ab_902b34a79facrow0_col0\" class=\"data row0 col0\" >Ath Madrid</td>\n",
       "                        <td id=\"T_27be6bfc_8cf2_11eb_90ab_902b34a79facrow0_col1\" class=\"data row0 col1\" >22</td>\n",
       "            </tr>\n",
       "            <tr>\n",
       "                                <td id=\"T_27be6bfc_8cf2_11eb_90ab_902b34a79facrow1_col0\" class=\"data row1 col0\" >Barcelona</td>\n",
       "                        <td id=\"T_27be6bfc_8cf2_11eb_90ab_902b34a79facrow1_col1\" class=\"data row1 col1\" >29</td>\n",
       "            </tr>\n",
       "            <tr>\n",
       "                                <td id=\"T_27be6bfc_8cf2_11eb_90ab_902b34a79facrow2_col0\" class=\"data row2 col0\" >Getafe</td>\n",
       "                        <td id=\"T_27be6bfc_8cf2_11eb_90ab_902b34a79facrow2_col1\" class=\"data row2 col1\" >33</td>\n",
       "            </tr>\n",
       "            <tr>\n",
       "                                <td id=\"T_27be6bfc_8cf2_11eb_90ab_902b34a79facrow3_col0\" class=\"data row3 col0\" >Valencia</td>\n",
       "                        <td id=\"T_27be6bfc_8cf2_11eb_90ab_902b34a79facrow3_col1\" class=\"data row3 col1\" >38</td>\n",
       "            </tr>\n",
       "            <tr>\n",
       "                                <td id=\"T_27be6bfc_8cf2_11eb_90ab_902b34a79facrow4_col0\" class=\"data row4 col0\" >Espanol</td>\n",
       "                        <td id=\"T_27be6bfc_8cf2_11eb_90ab_902b34a79facrow4_col1\" class=\"data row4 col1\" >42</td>\n",
       "            </tr>\n",
       "    </tbody></table>"
      ],
      "text/plain": [
       "<pandas.io.formats.style.Styler at 0x1bec5d5c220>"
      ]
     },
     "execution_count": 31,
     "metadata": {},
     "output_type": "execute_result"
    }
   ],
   "source": [
    "top_5_defense(2018)"
   ]
  },
  {
   "cell_type": "markdown",
   "metadata": {},
   "source": [
    "###### I didn't write functions for repeating action because there would be a lot of variables and just because this was much faster."
   ]
  }
 ],
 "metadata": {
  "kernelspec": {
   "display_name": "Python 3",
   "language": "python",
   "name": "python3"
  },
  "language_info": {
   "codemirror_mode": {
    "name": "ipython",
    "version": 3
   },
   "file_extension": ".py",
   "mimetype": "text/x-python",
   "name": "python",
   "nbconvert_exporter": "python",
   "pygments_lexer": "ipython3",
   "version": "3.8.5"
  }
 },
 "nbformat": 4,
 "nbformat_minor": 4
}
